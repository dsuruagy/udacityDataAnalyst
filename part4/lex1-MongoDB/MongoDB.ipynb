{
 "cells": [
  {
   "cell_type": "code",
   "execution_count": null,
   "metadata": {
    "collapsed": true
   },
   "outputs": [],
   "source": [
    "### Testing MongoDB"
   ]
  },
  {
   "cell_type": "code",
   "execution_count": 20,
   "metadata": {},
   "outputs": [
    {
     "name": "stdout",
     "output_type": "stream",
     "text": [
      "{u'code': u'http://dbpedia.org/ontology/code', u'populationRural': u'http://dbpedia.org/ontology/populationRural', u'state_label': u'http://dbpedia.org/ontology/state', u'twinCity_label': u'http://dbpedia.org/ontology/twinCity', u'mayor_label': u'http://dbpedia.org/ontology/mayor', u'mayor': u'http://dbpedia.org/ontology/mayor', u'governingBody_label': u'http://dbpedia.org/ontology/governingBody', u'areaLand': u'http://dbpedia.org/ontology/areaLand', u'rdf-schema#label': u'http://www.w3.org/2000/01/rdf-schema#label', u'foundingPerson_label': u'http://dbpedia.org/ontology/foundingPerson', u'division_label': u'http://dbpedia.org/ontology/division', u'location': u'http://dbpedia.org/ontology/location', u'foundingYear': u'http://dbpedia.org/ontology/foundingYear', u'homepage': u'http://xmlns.com/foaf/0.1/homepage', u'division': u'http://dbpedia.org/ontology/division', u'elevation': u'http://dbpedia.org/ontology/elevation', u'government': u'http://dbpedia.org/ontology/government', u'URI': u'URI', u'isPartOf_label': u'http://dbpedia.org/ontology/isPartOf', u'areaWater': u'http://dbpedia.org/ontology/areaWater', u'type_label': u'http://dbpedia.org/ontology/type', u'part_label': u'http://dbpedia.org/ontology/part', u'leader': u'http://dbpedia.org/ontology/leader', u'city_label': u'http://dbpedia.org/ontology/city', u'minimumElevation': u'http://dbpedia.org/ontology/minimumElevation', u'foundingDate': u'http://dbpedia.org/ontology/foundingDate', u'twinCountry_label': u'http://dbpedia.org/ontology/twinCountry', u'municipality_label': u'http://dbpedia.org/ontology/municipality', u'wgs84_pos#long': u'http://www.w3.org/2003/01/geo/wgs84_pos#long', u'anthem': u'http://dbpedia.org/ontology/anthem', u'populationUrbanDensity': u'http://dbpedia.org/ontology/populationUrbanDensity', u'state': u'http://dbpedia.org/ontology/state', u'district_label': u'http://dbpedia.org/ontology/district', u'administrativeDistrict_label': u'http://dbpedia.org/ontology/administrativeDistrict', u'isPartOf': u'http://dbpedia.org/ontology/isPartOf', u'governingBody': u'http://dbpedia.org/ontology/governingBody', u'thumbnail': u'http://dbpedia.org/ontology/thumbnail', u'populationMetro': u'http://dbpedia.org/ontology/populationMetro', u'daylightSavingTimeZone_label': u'http://dbpedia.org/ontology/daylightSavingTimeZone', u'leaderParty': u'http://dbpedia.org/ontology/leaderParty', u'leaderName_label': u'http://dbpedia.org/ontology/leaderName', u'daylightSavingTimeZone': u'http://dbpedia.org/ontology/daylightSavingTimeZone', u'populationAsOf': u'http://dbpedia.org/ontology/populationAsOf', u'anthem_label': u'http://dbpedia.org/ontology/anthem', u'motto': u'http://dbpedia.org/ontology/motto', u'governmentType_label': u'http://dbpedia.org/ontology/governmentType', u'populationTotalRanking': u'http://dbpedia.org/ontology/populationTotalRanking', u'populationMetroDensity': u'http://dbpedia.org/ontology/populationMetroDensity', u'country': u'http://dbpedia.org/ontology/country', u'region': u'http://dbpedia.org/ontology/region', u'region_label': u'http://dbpedia.org/ontology/region', u'federalState': u'http://dbpedia.org/ontology/federalState', u'timeZone': u'http://dbpedia.org/ontology/timeZone', u'leader_label': u'http://dbpedia.org/ontology/leader', u'leaderName': u'http://dbpedia.org/ontology/leaderName', u'point': u'http://www.georss.org/georss/point', u'municipality': u'http://dbpedia.org/ontology/municipality', u'thumbnail_label': u'http://dbpedia.org/ontology/thumbnail', u'city': u'http://dbpedia.org/ontology/city', u'district': u'http://dbpedia.org/ontology/district', u'area': u'http://dbpedia.org/ontology/area', u'areaCode': u'http://dbpedia.org/ontology/areaCode', u'name': u'http://xmlns.com/foaf/0.1/name', u'populationTotal': u'http://dbpedia.org/ontology/populationTotal', u'areaRural': u'http://dbpedia.org/ontology/areaRural', u'areaUrban': u'http://dbpedia.org/ontology/areaUrban', u'type': u'http://dbpedia.org/ontology/type', u'location_label': u'http://dbpedia.org/ontology/location', u'22-rdf-syntax-ns#type': u'http://www.w3.org/1999/02/22-rdf-syntax-ns#type', u'part': u'http://dbpedia.org/ontology/part', u'areaMetro': u'http://dbpedia.org/ontology/areaMetro', u'depiction_label': u'http://xmlns.com/foaf/0.1/depiction', u'government_label': u'http://dbpedia.org/ontology/government', u'isoCodeRegion': u'http://dbpedia.org/ontology/isoCodeRegion', u'leaderTitle': u'http://dbpedia.org/ontology/leaderTitle', u'federalState_label': u'http://dbpedia.org/ontology/federalState', u'isoCodeRegion_label': u'http://dbpedia.org/ontology/isoCodeRegion', u'country_label': u'http://dbpedia.org/ontology/country', u'administrativeDistrict': u'http://dbpedia.org/ontology/administrativeDistrict', u'homepage_label': u'http://xmlns.com/foaf/0.1/homepage', u'22-rdf-syntax-ns#type_label': u'http://www.w3.org/1999/02/22-rdf-syntax-ns#type', u'depiction': u'http://xmlns.com/foaf/0.1/depiction', u'timeZone_label': u'http://dbpedia.org/ontology/timeZone', u'areaTotal': u'http://dbpedia.org/ontology/areaTotal', u'governmentType': u'http://dbpedia.org/ontology/governmentType', u'maximumElevation': u'http://dbpedia.org/ontology/maximumElevation', u'rdf-schema#comment': u'http://www.w3.org/2000/01/rdf-schema#comment', u'nick': u'http://xmlns.com/foaf/0.1/nick', u'postalCode': u'http://dbpedia.org/ontology/postalCode', u'wgs84_pos#lat': u'http://www.w3.org/2003/01/geo/wgs84_pos#lat', u'populationDensity': u'http://dbpedia.org/ontology/populationDensity', u'twinCountry': u'http://dbpedia.org/ontology/twinCountry', u'percentageOfAreaWater': u'http://dbpedia.org/ontology/percentageOfAreaWater', u'leaderParty_label': u'http://dbpedia.org/ontology/leaderParty', u'synonym': u'http://dbpedia.org/ontology/synonym', u'twinCity': u'http://dbpedia.org/ontology/twinCity', u'utcOffset': u'http://dbpedia.org/ontology/utcOffset', u'foundingPerson': u'http://dbpedia.org/ontology/foundingPerson', u'populationUrban': u'http://dbpedia.org/ontology/populationUrban', u'_id': ObjectId('59341b1cb9134febd8de32fa')}\n",
      "{u'code': u'XMLSchema#string', u'populationRural': u'XMLSchema#nonNegativeInteger', u'state_label': u'XMLSchema#string', u'twinCity_label': u'XMLSchema#string', u'mayor_label': u'XMLSchema#string', u'mayor': u'Mayor', u'governingBody_label': u'XMLSchema#string', u'areaLand': u'XMLSchema#double', u'rdf-schema#label': u'XMLSchema#string', u'foundingPerson_label': u'XMLSchema#string', u'division_label': u'XMLSchema#string', u'location': u'Place', u'foundingYear': u'XMLSchema#gYear', u'homepage': u'owl#Thing', u'division': u'owl#Thing', u'elevation': u'XMLSchema#double', u'government': u'owl#Thing', u'URI': u'URI', u'isPartOf_label': u'XMLSchema#string', u'areaWater': u'XMLSchema#double', u'type_label': u'XMLSchema#string', u'part_label': u'XMLSchema#string', u'leader': u'Person', u'city_label': u'XMLSchema#string', u'minimumElevation': u'XMLSchema#double', u'foundingDate': u'XMLSchema#date', u'twinCountry_label': u'XMLSchema#string', u'municipality_label': u'XMLSchema#string', u'wgs84_pos#long': u'XMLSchema#float', u'anthem': u'Work', u'populationUrbanDensity': u'XMLSchema#double', u'state': u'PopulatedPlace', u'district_label': u'XMLSchema#string', u'administrativeDistrict_label': u'XMLSchema#string', u'isPartOf': u'owl#Thing', u'governingBody': u'Organisation', u'thumbnail': u'owl#Thing', u'populationMetro': u'XMLSchema#nonNegativeInteger', u'daylightSavingTimeZone_label': u'XMLSchema#string', u'leaderParty': u'owl#Thing', u'leaderName_label': u'XMLSchema#string', u'daylightSavingTimeZone': u'owl#Thing', u'populationAsOf': u'XMLSchema#date', u'anthem_label': u'XMLSchema#string', u'motto': u'XMLSchema#string', u'governmentType_label': u'XMLSchema#string', u'populationTotalRanking': u'XMLSchema#positiveInteger', u'populationMetroDensity': u'XMLSchema#double', u'country': u'Country', u'region': u'Place', u'region_label': u'XMLSchema#string', u'federalState': u'PopulatedPlace', u'timeZone': u'owl#Thing', u'leader_label': u'XMLSchema#string', u'leaderName': u'Person', u'point': u'XMLSchema#string', u'municipality': u'PopulatedPlace', u'thumbnail_label': u'XMLSchema#string', u'city': u'City', u'district': u'PopulatedPlace', u'area': u'XMLSchema#double', u'areaCode': u'XMLSchema#string', u'name': u'XMLSchema#string', u'populationTotal': u'XMLSchema#nonNegativeInteger', u'areaRural': u'XMLSchema#double', u'areaUrban': u'XMLSchema#double', u'type': u'owl#Thing', u'location_label': u'XMLSchema#string', u'22-rdf-syntax-ns#type': u'owl#Class', u'part': u'Place', u'areaMetro': u'XMLSchema#double', u'depiction_label': u'XMLSchema#string', u'government_label': u'XMLSchema#string', u'isoCodeRegion': u'owl#Thing', u'leaderTitle': u'XMLSchema#string', u'federalState_label': u'XMLSchema#string', u'isoCodeRegion_label': u'XMLSchema#string', u'country_label': u'XMLSchema#string', u'administrativeDistrict': u'PopulatedPlace', u'homepage_label': u'XMLSchema#string', u'22-rdf-syntax-ns#type_label': u'XMLSchema#string', u'depiction': u'owl#Thing', u'timeZone_label': u'XMLSchema#string', u'areaTotal': u'XMLSchema#double', u'governmentType': u'GovernmentType', u'maximumElevation': u'XMLSchema#double', u'rdf-schema#comment': u'XMLSchema#string', u'nick': u'XMLSchema#string', u'postalCode': u'XMLSchema#string', u'wgs84_pos#lat': u'XMLSchema#float', u'populationDensity': u'XMLSchema#double', u'twinCountry': u'Country', u'percentageOfAreaWater': u'XMLSchema#float', u'leaderParty_label': u'XMLSchema#string', u'synonym': u'XMLSchema#string', u'twinCity': u'Settlement', u'utcOffset': u'XMLSchema#string', u'foundingPerson': u'Person', u'populationUrban': u'XMLSchema#nonNegativeInteger', u'_id': ObjectId('59341b1cb9134febd8de32fb')}\n",
      "{u'code': u'http://www.w3.org/2001/XMLSchema#string', u'populationRural': u'http://www.w3.org/2001/XMLSchema#nonNegativeInteger', u'state_label': u'http://www.w3.org/2001/XMLSchema#string', u'twinCity_label': u'http://www.w3.org/2001/XMLSchema#string', u'mayor_label': u'http://www.w3.org/2001/XMLSchema#string', u'mayor': u'http://dbpedia.org/ontology/Mayor', u'governingBody_label': u'http://www.w3.org/2001/XMLSchema#string', u'areaLand': u'http://www.w3.org/2001/XMLSchema#double', u'rdf-schema#label': u'http://www.w3.org/2001/XMLSchema#string', u'foundingPerson_label': u'http://www.w3.org/2001/XMLSchema#string', u'division_label': u'http://www.w3.org/2001/XMLSchema#string', u'location': u'http://dbpedia.org/ontology/Place', u'foundingYear': u'http://www.w3.org/2001/XMLSchema#gYear', u'homepage': u'http://www.w3.org/2002/07/owl#Thing', u'division': u'http://www.w3.org/2002/07/owl#Thing', u'elevation': u'http://www.w3.org/2001/XMLSchema#double', u'government': u'http://www.w3.org/2002/07/owl#Thing', u'URI': u'http://www.w3.org/2002/07/owl#Thing', u'isPartOf_label': u'http://www.w3.org/2001/XMLSchema#string', u'areaWater': u'http://www.w3.org/2001/XMLSchema#double', u'type_label': u'http://www.w3.org/2001/XMLSchema#string', u'part_label': u'http://www.w3.org/2001/XMLSchema#string', u'leader': u'http://dbpedia.org/ontology/Person', u'city_label': u'http://www.w3.org/2001/XMLSchema#string', u'minimumElevation': u'http://www.w3.org/2001/XMLSchema#double', u'foundingDate': u'http://www.w3.org/2001/XMLSchema#date', u'twinCountry_label': u'http://www.w3.org/2001/XMLSchema#string', u'municipality_label': u'http://www.w3.org/2001/XMLSchema#string', u'wgs84_pos#long': u'http://www.w3.org/2001/XMLSchema#float', u'anthem': u'http://dbpedia.org/ontology/Work', u'populationUrbanDensity': u'http://www.w3.org/2001/XMLSchema#double', u'state': u'http://dbpedia.org/ontology/PopulatedPlace', u'district_label': u'http://www.w3.org/2001/XMLSchema#string', u'administrativeDistrict_label': u'http://www.w3.org/2001/XMLSchema#string', u'isPartOf': u'http://www.w3.org/2002/07/owl#Thing', u'governingBody': u'http://dbpedia.org/ontology/Organisation', u'thumbnail': u'http://www.w3.org/2002/07/owl#Thing', u'populationMetro': u'http://www.w3.org/2001/XMLSchema#nonNegativeInteger', u'daylightSavingTimeZone_label': u'http://www.w3.org/2001/XMLSchema#string', u'leaderParty': u'http://www.w3.org/2002/07/owl#Thing', u'leaderName_label': u'http://www.w3.org/2001/XMLSchema#string', u'daylightSavingTimeZone': u'http://www.w3.org/2002/07/owl#Thing', u'populationAsOf': u'http://www.w3.org/2001/XMLSchema#date', u'anthem_label': u'http://www.w3.org/2001/XMLSchema#string', u'motto': u'http://www.w3.org/2001/XMLSchema#string', u'governmentType_label': u'http://www.w3.org/2001/XMLSchema#string', u'populationTotalRanking': u'http://www.w3.org/2001/XMLSchema#positiveInteger', u'populationMetroDensity': u'http://www.w3.org/2001/XMLSchema#double', u'country': u'http://dbpedia.org/ontology/Country', u'region': u'http://dbpedia.org/ontology/Place', u'region_label': u'http://www.w3.org/2001/XMLSchema#string', u'federalState': u'http://dbpedia.org/ontology/PopulatedPlace', u'timeZone': u'http://www.w3.org/2002/07/owl#Thing', u'leader_label': u'http://www.w3.org/2001/XMLSchema#string', u'leaderName': u'http://dbpedia.org/ontology/Person', u'point': u'http://www.w3.org/2001/XMLSchema#string', u'municipality': u'http://dbpedia.org/ontology/PopulatedPlace', u'thumbnail_label': u'http://www.w3.org/2001/XMLSchema#string', u'city': u'http://dbpedia.org/ontology/City', u'district': u'http://dbpedia.org/ontology/PopulatedPlace', u'area': u'http://www.w3.org/2001/XMLSchema#double', u'areaCode': u'http://www.w3.org/2001/XMLSchema#string', u'name': u'http://www.w3.org/2001/XMLSchema#string', u'populationTotal': u'http://www.w3.org/2001/XMLSchema#nonNegativeInteger', u'areaRural': u'http://www.w3.org/2001/XMLSchema#double', u'areaUrban': u'http://www.w3.org/2001/XMLSchema#double', u'type': u'http://www.w3.org/2002/07/owl#Thing', u'location_label': u'http://www.w3.org/2001/XMLSchema#string', u'22-rdf-syntax-ns#type': u'http://www.w3.org/2002/07/owl#Class', u'part': u'http://dbpedia.org/ontology/Place', u'areaMetro': u'http://www.w3.org/2001/XMLSchema#double', u'depiction_label': u'http://www.w3.org/2001/XMLSchema#string', u'government_label': u'http://www.w3.org/2001/XMLSchema#string', u'isoCodeRegion': u'http://www.w3.org/2002/07/owl#Thing', u'leaderTitle': u'http://www.w3.org/2001/XMLSchema#string', u'federalState_label': u'http://www.w3.org/2001/XMLSchema#string', u'isoCodeRegion_label': u'http://www.w3.org/2001/XMLSchema#string', u'country_label': u'http://www.w3.org/2001/XMLSchema#string', u'administrativeDistrict': u'http://dbpedia.org/ontology/PopulatedPlace', u'homepage_label': u'http://www.w3.org/2001/XMLSchema#string', u'22-rdf-syntax-ns#type_label': u'http://www.w3.org/2001/XMLSchema#string', u'depiction': u'http://www.w3.org/2002/07/owl#Thing', u'timeZone_label': u'http://www.w3.org/2001/XMLSchema#string', u'areaTotal': u'http://www.w3.org/2001/XMLSchema#double', u'governmentType': u'http://dbpedia.org/ontology/GovernmentType', u'maximumElevation': u'http://www.w3.org/2001/XMLSchema#double', u'rdf-schema#comment': u'http://www.w3.org/2001/XMLSchema#string', u'nick': u'http://www.w3.org/2001/XMLSchema#string', u'postalCode': u'http://www.w3.org/2001/XMLSchema#string', u'wgs84_pos#lat': u'http://www.w3.org/2001/XMLSchema#float', u'populationDensity': u'http://www.w3.org/2001/XMLSchema#double', u'twinCountry': u'http://dbpedia.org/ontology/Country', u'percentageOfAreaWater': u'http://www.w3.org/2001/XMLSchema#float', u'leaderParty_label': u'http://www.w3.org/2001/XMLSchema#string', u'synonym': u'http://www.w3.org/2001/XMLSchema#string', u'twinCity': u'http://dbpedia.org/ontology/Settlement', u'utcOffset': u'http://www.w3.org/2001/XMLSchema#string', u'foundingPerson': u'http://dbpedia.org/ontology/Person', u'populationUrban': u'http://www.w3.org/2001/XMLSchema#nonNegativeInteger', u'_id': ObjectId('59341b1cb9134febd8de32fc')}\n"
     ]
    }
   ],
   "source": [
    "\"\"\"\n",
    "Your task is to sucessfully run the exercise to see how pymongo works\n",
    "and how easy it is to start using it.\n",
    "You don't actually have to change anything in this exercise,\n",
    "but you can change the city name in the add_city function if you like.\n",
    "\n",
    "Your code will be run against a MongoDB instance that we have provided.\n",
    "If you want to run this code locally on your machine,\n",
    "you have to install MongoDB (see Instructor comments for link to installation information)\n",
    "and uncomment the get_db function.\n",
    "\"\"\"\n",
    "\n",
    "def add_city(db):\n",
    "    # Changes to this function will be reflected in the output. \n",
    "    # All other functions are for local use only.\n",
    "    # Try changing the name of the city to be inserted\n",
    "    if False:\n",
    "        db.cities.insert_one({\"name\" : \"Recife\"})\n",
    "    \n",
    "def get_city(db):\n",
    "    #return db.cities.find_one()\n",
    "    return db.cities.find()\n",
    "\n",
    "def get_db():\n",
    "    # For local use\n",
    "    from pymongo import MongoClient\n",
    "    client = MongoClient('localhost:27017')\n",
    "    # 'examples' here is the database name. It will be created if it does not exist.\n",
    "    db = client.examples\n",
    "    return db\n",
    "\n",
    "if __name__ == \"__main__\":\n",
    "    # For local use\n",
    "    db = get_db() # uncomment this line if you want to run this locally\n",
    "    add_city(db)\n",
    "    for city in get_city(db)[:3]:\n",
    "        print city"
   ]
  },
  {
   "cell_type": "markdown",
   "metadata": {},
   "source": [
    "### FInding Porsches"
   ]
  },
  {
   "cell_type": "code",
   "execution_count": 2,
   "metadata": {},
   "outputs": [
    {
     "name": "stdout",
     "output_type": "stream",
     "text": [
      "Printing first 3 results\n",
      "\n",
      "{u'name': u'Porsche 928'}\n",
      "{u'name': u'Porsche 924'}\n",
      "{u'name': u'Porsche 944'}\n"
     ]
    }
   ],
   "source": [
    "#!/usr/bin/env python\n",
    "\"\"\"\n",
    "Your task is to complete the 'porsche_query' function and in particular the query\n",
    "to find all autos where the manufacturer field matches \"Porsche\".\n",
    "Please modify only 'porsche_query' function, as only that will be taken into account.\n",
    "\n",
    "Your code will be run against a MongoDB instance that we have provided.\n",
    "If you want to run this code locally on your machine,\n",
    "you have to install MongoDB and download and insert the dataset.\n",
    "For instructions related to MongoDB setup and datasets please see Course Materials at\n",
    "the following link:\n",
    "https://www.udacity.com/wiki/ud032\n",
    "\"\"\"\n",
    "\n",
    "def porsche_query():\n",
    "    # Please fill in the query to find all autos manuafactured by Porsche.\n",
    "    query = {\"manufacturer_label\" : \"Porsche\"}\n",
    "    return query\n",
    "\n",
    "\n",
    "# Do not edit code below this line in the online code editor.\n",
    "# Code here is for local use on your own computer.\n",
    "def get_db(db_name):\n",
    "    # For local use\n",
    "    from pymongo import MongoClient\n",
    "    client = MongoClient('localhost:27017')\n",
    "    db = client[db_name]\n",
    "    return db\n",
    "\n",
    "def find_porsche(db, query):\n",
    "    # For local use\n",
    "    projection = {\"_id\":0, \"name\":1}\n",
    "    return db.autos.find(query, projection)\n",
    "\n",
    "\n",
    "if __name__ == \"__main__\":\n",
    "    # For local use\n",
    "    db = get_db('test')\n",
    "    query = porsche_query()\n",
    "    results = find_porsche(db, query)\n",
    "\n",
    "    print \"Printing first 3 results\\n\"\n",
    "    import pprint\n",
    "    for car in results[:3]:\n",
    "        pprint.pprint(car)"
   ]
  },
  {
   "cell_type": "markdown",
   "metadata": {},
   "source": [
    "### Range Queries"
   ]
  },
  {
   "cell_type": "code",
   "execution_count": 4,
   "metadata": {},
   "outputs": [
    {
     "name": "stdout",
     "output_type": "stream",
     "text": [
      "Found cities: 127\n",
      "{u'URI': u'http://dbpedia.org/resource/Von_Ormy,_Texas',\n",
      " u'_id': ObjectId('5938a9a11ffd9e19a9ce5508'),\n",
      " u'country': u'Bexar County Texas',\n",
      " u'elevation': u'185.318',\n",
      " u'foundingDate': datetime.datetime(2008, 5, 30, 0, 0),\n",
      " u'isPartOf': u'Texas',\n",
      " u'name': [u'City of Von Ormy', u'Von Ormy Texas'],\n",
      " u'point': u'29.285666666666668 -98.64733333333334',\n",
      " u'populationTotal': u'1300',\n",
      " u'postalCode': u'78073',\n",
      " u'timeZone': u'Central Time Zone (North America)',\n",
      " u'utcOffset': [u'-5', u'-6']}\n"
     ]
    }
   ],
   "source": [
    "#!/usr/bin/env python\n",
    "\"\"\"\n",
    "Your task is to write a query that will return all cities\n",
    "that are founded in 21st century.\n",
    "Please modify only 'range_query' function, as only that will be taken into account.\n",
    "\n",
    "Your code will be run against a MongoDB instance that we have provided.\n",
    "If you want to run this code locally on your machine,\n",
    "you have to install MongoDB, download and insert the dataset.\n",
    "For instructions related to MongoDB setup and datasets please see Course Materials.\n",
    "\"\"\"\n",
    "\n",
    "from datetime import datetime\n",
    "    \n",
    "def range_query():\n",
    "    # Modify the below line with your query.\n",
    "    # You can use datetime(year, month, day) to specify date in the query\n",
    "    query = {\"foundingDate\" : {\"$gte\"  : datetime(2001, 1, 1), \n",
    "                               \"$lte\" : datetime(2100, 12, 31)}}\n",
    "    #query = {}\n",
    "    return query\n",
    "\n",
    "# Do not edit code below this line in the online code editor.\n",
    "# Code here is for local use on your own computer.\n",
    "def get_db():\n",
    "    from pymongo import MongoClient\n",
    "    client = MongoClient('localhost:27017')\n",
    "    db = client.examples\n",
    "    return db\n",
    "\n",
    "if __name__ == \"__main__\":\n",
    "    # For local use\n",
    "    db = get_db()\n",
    "    \n",
    "    if False:\n",
    "        # ===> Clean the 'foundingDate' data\n",
    "        # for all the 'foundingDate' values that are not a datetime object (which is 'type 9'):\n",
    "        #db = get_db()\n",
    "        for doc in db.cities.find({\"foundingDate\": {'$not': {'$type': 9}}}):\n",
    "            # This needs to be cleaned up (to parse arrays, for example):\n",
    "            if \"{\" not in doc[\"foundingDate\"] and doc[\"foundingDate\"] not in ['','NULL'] and len(doc[\"foundingDate\"]) == 10 :\n",
    "                # Convert \"foundingDate\" to a datetime object \n",
    "                doc[\"foundingDate\"] = datetime.strptime(doc[\"foundingDate\"], \"%Y-%m-%d\")\n",
    "                # upload the parsed dates to the database:\n",
    "                db.cities.find_one_and_update({'_id':doc['_id']},{ \"$set\": {'foundingDate':doc[\"foundingDate\"]}})    \n",
    "    \n",
    "    query = range_query()\n",
    "    cities = db.cities.find(query)\n",
    "\n",
    "    print \"Found cities:\", cities.count()\n",
    "    import pprint\n",
    "    pprint.pprint(cities[0])\n"
   ]
  },
  {
   "cell_type": "markdown",
   "metadata": {},
   "source": [
    "### Using $in Operator"
   ]
  },
  {
   "cell_type": "code",
   "execution_count": 5,
   "metadata": {},
   "outputs": [
    {
     "name": "stdout",
     "output_type": "stream",
     "text": [
      "Found autos: 0\n"
     ]
    }
   ],
   "source": [
    "#!/usr/bin/env python\n",
    "\"\"\"\n",
    "Your task is to write a query that will return all cars manufactured by\n",
    "\"Ford Motor Company\" that are assembled in Germany, United Kingdom, or Japan.\n",
    "Please modify only 'in_query' function, as only that will be taken into account.\n",
    "\n",
    "Your code will be run against a MongoDB instance that we have provided.\n",
    "If you want to run this code locally on your machine,\n",
    "you have to install MongoDB, download and insert the dataset.\n",
    "For instructions related to MongoDB setup and datasets please see Course Materials.\n",
    "\"\"\"\n",
    "\n",
    "\n",
    "def in_query():\n",
    "    # Modify the below line with your query; try to use the $in operator.\n",
    "    query = {\"assembly\" : {\"$in\" : [\"Germany\", \"United Kingdom\", \"Japan\"]},\n",
    "             \"manufacturer\" : \"Ford Motor Company\"}\n",
    "    \n",
    "    return query\n",
    "\n",
    "\n",
    "# Do not edit code below this line in the online code editor.\n",
    "# Code here is for local use on your own computer.\n",
    "def get_db():\n",
    "    from pymongo import MongoClient\n",
    "    client = MongoClient('localhost:27017')\n",
    "    db = client.examples\n",
    "    return db\n",
    "\n",
    "\n",
    "if __name__ == \"__main__\":\n",
    "\n",
    "    db = get_db()\n",
    "    query = in_query()\n",
    "    autos = db.autos.find(query, {\"name\":1, \"manufacturer\":1, \"assembly\": 1, \"_id\":0})\n",
    "\n",
    "    print \"Found autos:\", autos.count()\n",
    "    import pprint\n",
    "    for a in autos:\n",
    "        pprint.pprint(a)\n"
   ]
  },
  {
   "cell_type": "markdown",
   "metadata": {},
   "source": [
    "### Dot Notation"
   ]
  },
  {
   "cell_type": "code",
   "execution_count": 6,
   "metadata": {},
   "outputs": [
    {
     "name": "stdout",
     "output_type": "stream",
     "text": [
      "Printing first 3 results\n",
      "\n"
     ]
    }
   ],
   "source": [
    "#!/usr/bin/env python\n",
    "\"\"\"\n",
    "Your task is to write a query that will return all cars with width dimension\n",
    "greater than 2.5. Please modify only the 'dot_query' function, as only that\n",
    "will be taken into account.\n",
    "\n",
    "Your code will be run against a MongoDB instance that we have provided.\n",
    "If you want to run this code locally on your machine, you will need to install\n",
    "MongoDB, download and insert the dataset. For instructions related to MongoDB\n",
    "setup and datasets, please see the Course Materials.\n",
    "\"\"\"\n",
    "\n",
    "\n",
    "def dot_query():\n",
    "    # Edit the line below with your query - try to use dot notation.\n",
    "    # You can check out example_auto.txt for an example of the document\n",
    "    # structure in the collection.\n",
    "    query = {\"dimensions.width\" : {\"$gt\" : 1.5}}\n",
    "    return query\n",
    "\n",
    "\n",
    "# Do not edit code below this line in the online code editor.\n",
    "# Code here is for local use on your own computer.\n",
    "def get_db():\n",
    "    from pymongo import MongoClient\n",
    "    client = MongoClient('localhost:27017')\n",
    "    db = client.examples\n",
    "    return db\n",
    "\n",
    "\n",
    "if __name__ == \"__main__\":\n",
    "    db = get_db()\n",
    "    query = dot_query()\n",
    "    cars = db.cars.find(query)\n",
    "\n",
    "    print \"Printing first 3 results\\n\"\n",
    "    import pprint\n",
    "    for car in cars[:3]:\n",
    "        pprint.pprint(car)\n"
   ]
  }
 ],
 "metadata": {
  "kernelspec": {
   "display_name": "Python [conda env:DAND]",
   "language": "python",
   "name": "conda-env-DAND-py"
  },
  "language_info": {
   "codemirror_mode": {
    "name": "ipython",
    "version": 2
   },
   "file_extension": ".py",
   "mimetype": "text/x-python",
   "name": "python",
   "nbconvert_exporter": "python",
   "pygments_lexer": "ipython2",
   "version": "2.7.13"
  }
 },
 "nbformat": 4,
 "nbformat_minor": 2
}
